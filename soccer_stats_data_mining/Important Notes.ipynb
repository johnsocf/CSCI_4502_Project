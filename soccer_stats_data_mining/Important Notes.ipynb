{
 "cells": [
  {
   "cell_type": "code",
   "execution_count": null,
   "metadata": {},
   "outputs": [],
   "source": [
    "country_happiness_player_summary_and_wc_performance_by_country\n",
    "complete_player_data_and_wc_performance_by_country\n",
    "\n",
    "multi_keys = [\n",
    "    'wc_wins_for_country',\n",
    "    'wc_wins_in_2018',\n",
    "    'overall_player_rating',\n",
    "]\n",
    "\n",
    "multi_keys_b = [\n",
    "    'wc_wins_for_country',\n",
    "    'wc_wins_in_2018',\n",
    "]\n",
    "\n",
    "key_country_attr\n",
    "key_player_attrs"
   ]
  },
  {
   "cell_type": "markdown",
   "metadata": {},
   "source": [
    "Country  - wins for country\n",
    "Social support\n",
    "Life Ladder\n",
    "Healthy life expectancy at birth\n",
    "Positive affect\n",
    "Social support"
   ]
  },
  {
   "cell_type": "code",
   "execution_count": null,
   "metadata": {},
   "outputs": [],
   "source": [
    "long_passing\n",
    "overall_player_rating\n",
    "\n",
    "ball_control\n",
    "crossing\n",
    "reactions\n",
    "short_passing\n",
    "crossing"
   ]
  }
 ],
 "metadata": {
  "kernelspec": {
   "display_name": "Python 3",
   "language": "python",
   "name": "python3"
  },
  "language_info": {
   "codemirror_mode": {
    "name": "ipython",
    "version": 3
   },
   "file_extension": ".py",
   "mimetype": "text/x-python",
   "name": "python",
   "nbconvert_exporter": "python",
   "pygments_lexer": "ipython3",
   "version": "3.7.3"
  }
 },
 "nbformat": 4,
 "nbformat_minor": 2
}

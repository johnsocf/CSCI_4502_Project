{
 "cells": [
  {
   "cell_type": "code",
   "execution_count": null,
   "metadata": {},
   "outputs": [],
   "source": [
    "import pandas as pd \n",
    "\n",
    "# 1. upload data\n",
    "# upload data sets, and convert to pandas data frames\n",
    "data = pd.read_csv(\"filename.csv\") \n",
    "\n",
    "data.head()\n",
    "\n",
    "# 2. clean data.\n",
    "# replace missing values by mean of set, given attribute and data set.\n",
    "# replace missing values by mode of set, given attribute and data set.\n",
    "\n",
    "# given attrs to keep in the set, trim set.\n",
    "\n",
    "# build mapping based on country selectors from sets.\n",
    "\n",
    "# merge sets, given attributes and sets.\n",
    "\n"
   ]
  }
 ],
 "metadata": {
  "kernelspec": {
   "display_name": "Python 3",
   "language": "python",
   "name": "python3"
  },
  "language_info": {
   "codemirror_mode": {
    "name": "ipython",
    "version": 3
   },
   "file_extension": ".py",
   "mimetype": "text/x-python",
   "name": "python",
   "nbconvert_exporter": "python",
   "pygments_lexer": "ipython3",
   "version": "3.7.1"
  }
 },
 "nbformat": 4,
 "nbformat_minor": 2
}
